{
 "cells": [
  {
   "cell_type": "code",
   "execution_count": 2,
   "id": "1de850a8-90a1-424d-86b4-a6aa71a2a66f",
   "metadata": {},
   "outputs": [],
   "source": [
    "import sys\n",
    "sys.path.append(\"/home/jack/work/quant/backtrader/\")"
   ]
  },
  {
   "cell_type": "code",
   "execution_count": 1,
   "id": "acbe3247-d613-4615-9af4-9477877b471a",
   "metadata": {},
   "outputs": [],
   "source": [
    "import backtrader as bt\n",
    "import backtrader.indicators as btind\n",
    "import backtrader.feeds as btfeeds"
   ]
  },
  {
   "cell_type": "code",
   "execution_count": null,
   "id": "2ce239d5-ed71-46cf-969e-1e7c1d79a6eb",
   "metadata": {},
   "outputs": [],
   "source": [
    "class SMAStrategy(bt.Strategy):\n",
    "    param = dict(period1=20, period2=25, period3=10, period4)\n",
    "\n",
    "    def __init__(self):\n",
    "        sma1 = btind.SimpleMovingAverage(self.datas[0], period=self.period1)\n",
    "        sma2 = btind.SimpleMovingAverage"
   ]
  }
 ],
 "metadata": {
  "kernelspec": {
   "display_name": "Python Backtrade",
   "language": "python",
   "name": "backtrade"
  },
  "language_info": {
   "codemirror_mode": {
    "name": "ipython",
    "version": 3
   },
   "file_extension": ".py",
   "mimetype": "text/x-python",
   "name": "python",
   "nbconvert_exporter": "python",
   "pygments_lexer": "ipython3",
   "version": "3.10.0"
  }
 },
 "nbformat": 4,
 "nbformat_minor": 5
}
