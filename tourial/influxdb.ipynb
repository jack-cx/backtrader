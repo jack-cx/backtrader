{
 "cells": [
  {
   "cell_type": "code",
   "execution_count": 1,
   "id": "ff809048-e6fd-450a-8f96-48e66f56e24d",
   "metadata": {},
   "outputs": [],
   "source": [
    "import datetime\n",
    "import os.path\n",
    "import sys\n",
    "\n",
    "sys.path.append(\"/home/jack/work/quant/backtrader/\")"
   ]
  },
  {
   "cell_type": "code",
   "execution_count": 2,
   "id": "a7ce9766-e756-452c-8740-53bf1b2bc9c2",
   "metadata": {},
   "outputs": [],
   "source": [
    "from backtrader import feed"
   ]
  },
  {
   "cell_type": "code",
   "execution_count": null,
   "id": "9698beab-7f3c-4a7a-b549-7560f56d7d1a",
   "metadata": {},
   "outputs": [],
   "source": [
    "class InfluxDbFeed(feed.FeedBase):\n",
    "    "
   ]
  }
 ],
 "metadata": {
  "kernelspec": {
   "display_name": "Python Backtrade",
   "language": "python",
   "name": "backtrade"
  },
  "language_info": {
   "codemirror_mode": {
    "name": "ipython",
    "version": 3
   },
   "file_extension": ".py",
   "mimetype": "text/x-python",
   "name": "python",
   "nbconvert_exporter": "python",
   "pygments_lexer": "ipython3",
   "version": "3.10.0"
  }
 },
 "nbformat": 4,
 "nbformat_minor": 5
}
